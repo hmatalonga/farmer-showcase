{
  "nbformat": 4,
  "nbformat_minor": 0,
  "metadata": {
    "colab": {
      "name": "random-forest.ipynb",
      "version": "0.3.2",
      "provenance": [],
      "collapsed_sections": []
    },
    "kernelspec": {
      "name": "python3",
      "display_name": "Python 3"
    },
    "accelerator": "GPU"
  },
  "cells": [
    {
      "cell_type": "code",
      "metadata": {
        "id": "lHBR8LQm_uFA",
        "colab_type": "code",
        "colab": {}
      },
      "source": [
        "%%bash\n",
        "if [ ! -f \"random-forest-apps.parquet\" ]; then\n",
        "  wget -q https://github.com/hmatalonga/farmer-showcase/raw/master/data/random-forest-apps.parquet\n",
        "fi"
      ],
      "execution_count": 0,
      "outputs": []
    },
    {
      "cell_type": "code",
      "metadata": {
        "id": "pb3jCAheItbp",
        "colab_type": "code",
        "colab": {}
      },
      "source": [
        "import numpy as np\n",
        "import pandas as pd\n",
        "import pyarrow.parquet as pq\n",
        "\n",
        "from sklearn import metrics\n",
        "from sklearn.model_selection import train_test_split\n",
        "from sklearn.ensemble import RandomForestRegressor\n",
        "from sklearn.preprocessing import StandardScaler"
      ],
      "execution_count": 0,
      "outputs": []
    },
    {
      "cell_type": "code",
      "metadata": {
        "id": "OO-ZCme-I9WL",
        "colab_type": "code",
        "colab": {}
      },
      "source": [
        "%load_ext google.colab.data_table"
      ],
      "execution_count": 0,
      "outputs": []
    },
    {
      "cell_type": "code",
      "metadata": {
        "id": "iErq3hJ-I-yJ",
        "colab_type": "code",
        "colab": {}
      },
      "source": [
        "def load_df(path, columns=None, use_threads=True, strings_to_categorical=True):\n",
        "  \"\"\"\n",
        "  Load a parquet file and returns a pandas DataFrame\n",
        "  \"\"\"\n",
        "  try:\n",
        "    table = pq.read_table(path, columns=columns, use_threads=use_threads)\n",
        "    return table.to_pandas(strings_to_categorical=strings_to_categorical)\n",
        "  except Exception as e:\n",
        "      print(e)\n",
        "\n",
        "\n",
        "def save_df(df, path, compression='snappy', use_dictionary=True):\n",
        "  \"\"\"\n",
        "  Save a pandas DataFrame to a parquet file\n",
        "  \"\"\"\n",
        "  try:\n",
        "    df.to_parquet(path, compression=compression,\n",
        "                  use_dictionary=use_dictionary)\n",
        "  except Exception as e:\n",
        "    print(e)\n",
        "\n",
        "\n",
        "def truncate(n, decimals=0):\n",
        "    multiplier = 10 ** decimals\n",
        "    return int(n * multiplier) / multiplier"
      ],
      "execution_count": 0,
      "outputs": []
    },
    {
      "cell_type": "code",
      "metadata": {
        "id": "Zk7vgBtqJ26i",
        "colab_type": "code",
        "colab": {}
      },
      "source": [
        "df = load_df('random-forest-apps.parquet')"
      ],
      "execution_count": 0,
      "outputs": []
    },
    {
      "cell_type": "code",
      "metadata": {
        "id": "d-AU-9R99st5",
        "colab_type": "code",
        "colab": {
          "base_uri": "https://localhost:8080/",
          "height": 476
        },
        "outputId": "33221a6e-447b-4bb3-b553-87c648aa9372"
      },
      "source": [
        "df.info()"
      ],
      "execution_count": 6,
      "outputs": [
        {
          "output_type": "stream",
          "text": [
            "<class 'pandas.core.frame.DataFrame'>\n",
            "Int64Index: 397008 entries, 0 to 397007\n",
            "Data columns (total 20 columns):\n",
            "name                   397008 non-null category\n",
            "application_label      397008 non-null category\n",
            "importance             397008 non-null category\n",
            "version_code           397008 non-null int64\n",
            "battery_state          397008 non-null category\n",
            "battery_level          397008 non-null uint8\n",
            "network_status         397008 non-null category\n",
            "screen_brightness      397008 non-null int64\n",
            "screen_on              397008 non-null uint8\n",
            "charger                397008 non-null category\n",
            "current_average        397008 non-null int64\n",
            "health                 397008 non-null category\n",
            "temperature            397008 non-null float32\n",
            "usage                  397008 non-null float32\n",
            "bluetooth_enabled      397008 non-null uint8\n",
            "location_enabled       397008 non-null uint8\n",
            "power_saver_enabled    397008 non-null uint8\n",
            "flashlight_enabled     397008 non-null uint8\n",
            "nfc_enabled            397008 non-null uint8\n",
            "voltage                397008 non-null float32\n",
            "dtypes: category(7), float32(3), int64(3), uint8(7)\n",
            "memory usage: 22.9 MB\n"
          ],
          "name": "stdout"
        }
      ]
    },
    {
      "cell_type": "code",
      "metadata": {
        "id": "rqx4ZuY0Mq0f",
        "colab_type": "code",
        "colab": {}
      },
      "source": [
        "df = df.drop(['application_label'], axis=1)"
      ],
      "execution_count": 0,
      "outputs": []
    },
    {
      "cell_type": "markdown",
      "metadata": {
        "id": "PLAyYCrsBZ9t",
        "colab_type": "text"
      },
      "source": [
        "#### Move voltage to first position"
      ]
    },
    {
      "cell_type": "code",
      "metadata": {
        "id": "DzRXntxH8wgp",
        "colab_type": "code",
        "colab": {}
      },
      "source": [
        "columns = ['voltage',\n",
        "           'name',\n",
        "          'importance',\n",
        "          'version_code',\n",
        "          'battery_state',\n",
        "          'battery_level',\n",
        "          'network_status',\n",
        "          'screen_brightness',\n",
        "          'screen_on',\n",
        "          'charger',\n",
        "          'current_average',\n",
        "          'health',\n",
        "          'temperature',\n",
        "          'usage',\n",
        "          'bluetooth_enabled',\n",
        "          'location_enabled',\n",
        "          'power_saver_enabled',\n",
        "          'flashlight_enabled',\n",
        "          'nfc_enabled']\n",
        "\n",
        "df = df[columns]"
      ],
      "execution_count": 0,
      "outputs": []
    },
    {
      "cell_type": "markdown",
      "metadata": {
        "id": "hK7vnrEZAjw3",
        "colab_type": "text"
      },
      "source": [
        "#### Normalize unit values"
      ]
    },
    {
      "cell_type": "code",
      "metadata": {
        "id": "xA9QziUnMxUs",
        "colab_type": "code",
        "colab": {}
      },
      "source": [
        "df['usage'] = df['usage'].apply(lambda x: truncate(x, 2))\n",
        "df['voltage'] = df['voltage'].apply(lambda x: x / 1000 if x > 1000 else x)\n",
        "df['voltage'] = df['voltage'].apply(lambda x: truncate(x, 2))\n",
        "df['temperature'] = df['temperature'].apply(lambda x: truncate(x, 2))"
      ],
      "execution_count": 0,
      "outputs": []
    },
    {
      "cell_type": "markdown",
      "metadata": {
        "id": "cOnjXKm0At9v",
        "colab_type": "text"
      },
      "source": [
        "#### Label encoding for apps names "
      ]
    },
    {
      "cell_type": "code",
      "metadata": {
        "id": "OFo6dOrp7PBH",
        "colab_type": "code",
        "colab": {}
      },
      "source": [
        "df['name'] = df['name'].cat.codes"
      ],
      "execution_count": 0,
      "outputs": []
    },
    {
      "cell_type": "markdown",
      "metadata": {
        "id": "gcISV4tRBB-b",
        "colab_type": "text"
      },
      "source": [
        "#### One-Hot encoding for categorical values"
      ]
    },
    {
      "cell_type": "code",
      "metadata": {
        "id": "4EYEJdfQ6e-q",
        "colab_type": "code",
        "colab": {}
      },
      "source": [
        "df = pd.get_dummies(df, columns=['importance', 'battery_state',\n",
        "                                 'network_status', 'charger', 'health'])"
      ],
      "execution_count": 0,
      "outputs": []
    },
    {
      "cell_type": "code",
      "metadata": {
        "id": "od8qkccoKeXr",
        "colab_type": "code",
        "colab": {}
      },
      "source": [
        "X = df.iloc[:, 1:40].values\n",
        "y = df.iloc[:, 0].values"
      ],
      "execution_count": 0,
      "outputs": []
    },
    {
      "cell_type": "code",
      "metadata": {
        "id": "Lxq7R4qFL3la",
        "colab_type": "code",
        "colab": {}
      },
      "source": [
        "X_train, X_test, y_train, y_test = train_test_split(X, y, test_size=0.2, random_state=0)"
      ],
      "execution_count": 0,
      "outputs": []
    },
    {
      "cell_type": "code",
      "metadata": {
        "id": "eGvnyiScL5rD",
        "colab_type": "code",
        "colab": {}
      },
      "source": [
        "sc = StandardScaler()\n",
        "X_train = sc.fit_transform(X_train)\n",
        "X_test = sc.transform(X_test)"
      ],
      "execution_count": 0,
      "outputs": []
    },
    {
      "cell_type": "code",
      "metadata": {
        "id": "bS91d3PgL72l",
        "colab_type": "code",
        "colab": {}
      },
      "source": [
        "regressor = RandomForestRegressor(n_estimators=200, random_state=0)\n",
        "regressor.fit(X_train, y_train)\n",
        "y_pred = regressor.predict(X_test)"
      ],
      "execution_count": 0,
      "outputs": []
    },
    {
      "cell_type": "code",
      "metadata": {
        "id": "zVUAAvjvL96-",
        "colab_type": "code",
        "colab": {
          "base_uri": "https://localhost:8080/",
          "height": 72
        },
        "outputId": "6d6b0cc0-d856-4589-edce-345014a8bd27"
      },
      "source": [
        "print('Mean Absolute Error:', metrics.mean_absolute_error(y_test, y_pred))\n",
        "print('Mean Squared Error:', metrics.mean_squared_error(y_test, y_pred))\n",
        "print('Root Mean Squared Error:', np.sqrt(metrics.mean_squared_error(y_test, y_pred)))"
      ],
      "execution_count": 16,
      "outputs": [
        {
          "output_type": "stream",
          "text": [
            "Mean Absolute Error: 0.0009103798234690831\n",
            "Mean Squared Error: 5.117955021145149e-05\n",
            "Root Mean Squared Error: 0.007153988412868132\n"
          ],
          "name": "stdout"
        }
      ]
    }
  ]
}