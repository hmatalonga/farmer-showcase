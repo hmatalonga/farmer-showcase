{
  "nbformat": 4,
  "nbformat_minor": 0,
  "metadata": {
    "colab": {
      "name": "apps-envs.ipynb",
      "version": "0.3.2",
      "provenance": [],
      "collapsed_sections": []
    },
    "kernelspec": {
      "name": "python3",
      "display_name": "Python 3"
    },
    "accelerator": "GPU"
  },
  "cells": [
    {
      "cell_type": "code",
      "metadata": {
        "id": "-31qc-18H72w",
        "colab_type": "code",
        "colab": {}
      },
      "source": [
        "%%bash\n",
        "if [ ! -f \"app_processes.parquet.7z\" ]; then\n",
        "  wget -q https://www.dropbox.com/s/vywyp1kdvigopqs/app_processes.parquet.7z\n",
        "  7z e app_processes.parquet.7z app_processes.250.parquet app_processes.250.dtypes.pickle\n",
        "fi\n",
        "if [ ! -f \"samples.parquet.7z\" ]; then\n",
        "  wget -q https://www.dropbox.com/s/s3vmcugbbo2qaxb/samples.parquet.7z\n",
        "  7z e samples.parquet.7z\n",
        "fi\n",
        "if [ ! -f \"battery_details.parquet.7z\" ]; then\n",
        "  wget -q https://www.dropbox.com/s/mgeymwcfm7y09n4/battery_details.parquet.7z\n",
        "  7z e battery_details.parquet.7z\n",
        "fi\n",
        "if [ ! -f \"cpu_statuses.parquet.7z\" ]; then\n",
        "  wget -q https://www.dropbox.com/s/oo56nhj8jjfp0ma/cpu_statuses.parquet.7z\n",
        "  7z e cpu_statuses.parquet.7z\n",
        "fi\n",
        "if [ ! -f \"settings.parquet.7z\" ]; then\n",
        "  wget -q https://www.dropbox.com/s/h5sc45d0d1odzpl/settings.parquet.7z\n",
        "  7z e settings.parquet.7z\n",
        "fi"
      ],
      "execution_count": 0,
      "outputs": []
    },
    {
      "cell_type": "code",
      "metadata": {
        "id": "BNOOpGnwIDRF",
        "colab_type": "code",
        "colab": {}
      },
      "source": [
        "import pickle\n",
        "import numpy as np\n",
        "import pandas as pd\n",
        "import pyarrow.parquet as pq\n",
        "import seaborn as sns\n",
        "import matplotlib.pyplot as plt\n",
        "\n",
        "sns.set_style(\"whitegrid\")"
      ],
      "execution_count": 0,
      "outputs": []
    },
    {
      "cell_type": "code",
      "metadata": {
        "id": "sinoCP6fH__5",
        "colab_type": "code",
        "colab": {}
      },
      "source": [
        "%load_ext google.colab.data_table"
      ],
      "execution_count": 0,
      "outputs": []
    },
    {
      "cell_type": "code",
      "metadata": {
        "id": "KDHN3hLJVHz0",
        "colab_type": "code",
        "colab": {}
      },
      "source": [
        "def load_dtypes(path):\n",
        "  with open(path, 'rb') as handle:\n",
        "    return pickle.load(handle)\n",
        "\n",
        "\n",
        "def save_df(df, path, compression='snappy', use_dictionary=True):\n",
        "  \"\"\"\n",
        "  Save a pandas DataFrame to a parquet file\n",
        "  \"\"\"\n",
        "  try:\n",
        "    df.to_parquet(path, compression=compression,\n",
        "                  use_dictionary=use_dictionary)\n",
        "  except Exception as e:\n",
        "    print(e)\n",
        "\n",
        "\n",
        "def load_df(path, columns=None, use_threads=True, strings_to_categorical=True):\n",
        "  \"\"\"\n",
        "  Load a parquet file and returns a pandas DataFrame\n",
        "  \"\"\"\n",
        "  try:\n",
        "    table = pq.read_table(path, columns=columns, use_threads=use_threads)\n",
        "    return table.to_pandas(strings_to_categorical=strings_to_categorical)\n",
        "  except Exception as e:\n",
        "      print(e)"
      ],
      "execution_count": 0,
      "outputs": []
    },
    {
      "cell_type": "code",
      "metadata": {
        "id": "WtHaB1xxIGZy",
        "colab_type": "code",
        "colab": {}
      },
      "source": [
        "df = load_df('app_processes.250.parquet')"
      ],
      "execution_count": 0,
      "outputs": []
    },
    {
      "cell_type": "code",
      "metadata": {
        "id": "7gLVXx1rVjmD",
        "colab_type": "code",
        "colab": {}
      },
      "source": [
        "df = df.astype(load_dtypes('app_processes.250.dtypes.pickle'))\n",
        "df['name'] = df['name'].str.split(':').map(lambda x: x[0])"
      ],
      "execution_count": 0,
      "outputs": []
    },
    {
      "cell_type": "code",
      "metadata": {
        "id": "sGm0gcAEVtcs",
        "colab_type": "code",
        "colab": {}
      },
      "source": [
        "df = df.reset_index(drop=True)"
      ],
      "execution_count": 0,
      "outputs": []
    },
    {
      "cell_type": "code",
      "metadata": {
        "id": "at8oc8M9V41w",
        "colab_type": "code",
        "colab": {}
      },
      "source": [
        "blacklist = pd.read_csv('system-apps.csv')['name']\n",
        "sources = ['com.mansoon.batterydouble', 'com.hmatalonga.greenhub']"
      ],
      "execution_count": 0,
      "outputs": []
    },
    {
      "cell_type": "code",
      "metadata": {
        "id": "Xlge5skzYlrf",
        "colab_type": "code",
        "colab": {}
      },
      "source": [
        "df = df.dropna()\n",
        "df = df[~df['name'].isin(blacklist)]\n",
        "df = df[~df['name'].isin(sources)]\n",
        "df = df.reset_index(drop=True)\n",
        "df = df.drop(['is_system_app'], axis=1)\n",
        "df = df.rename(columns={'sample_id':'fk'})"
      ],
      "execution_count": 0,
      "outputs": []
    },
    {
      "cell_type": "markdown",
      "metadata": {
        "id": "K4BlQD7bAOuW",
        "colab_type": "text"
      },
      "source": [
        "## Merge tables\n",
        "### Samples"
      ]
    },
    {
      "cell_type": "code",
      "metadata": {
        "id": "QO6o9puZqL4t",
        "colab_type": "code",
        "colab": {}
      },
      "source": [
        "columns = ['id', 'battery_state',\n",
        "           'battery_level', 'network_status', 'screen_brightness', 'screen_on']\n",
        "data = load_df('samples.parquet', columns=columns)"
      ],
      "execution_count": 0,
      "outputs": []
    },
    {
      "cell_type": "code",
      "metadata": {
        "id": "BHwDL-70yMcV",
        "colab_type": "code",
        "colab": {}
      },
      "source": [
        "df = df.merge(data, left_on='fk', right_on='id')\n",
        "df = df.drop(['id'], axis=1)"
      ],
      "execution_count": 0,
      "outputs": []
    },
    {
      "cell_type": "markdown",
      "metadata": {
        "id": "QHnbt8J5DH0R",
        "colab_type": "text"
      },
      "source": [
        "### Battery details"
      ]
    },
    {
      "cell_type": "code",
      "metadata": {
        "id": "ukaQpaRGCOcH",
        "colab_type": "code",
        "colab": {}
      },
      "source": [
        "battery_dtypes = {\n",
        "    'charger': 'category',\n",
        "    'current_average': 'int64',\n",
        "    'health': 'category',\n",
        "    'sample_id': 'uint32',\n",
        "    'temperature': 'float32',\n",
        "    'voltage': 'float32'\n",
        "}\n",
        "columns = ['sample_id', 'charger', 'current_average',\n",
        "           'health', 'temperature', 'voltage']\n",
        "data = load_df('battery_details.parquet', columns=columns).astype(battery_dtypes)"
      ],
      "execution_count": 0,
      "outputs": []
    },
    {
      "cell_type": "code",
      "metadata": {
        "id": "hDS9d7_LCnKt",
        "colab_type": "code",
        "colab": {}
      },
      "source": [
        "data['voltage'] = data['voltage'].round(3)\n",
        "data['temperature'] = data['temperature'].astype(np.float32).round(3)"
      ],
      "execution_count": 0,
      "outputs": []
    },
    {
      "cell_type": "code",
      "metadata": {
        "id": "cGqk4IuLCisK",
        "colab_type": "code",
        "colab": {}
      },
      "source": [
        "df = df.merge(data, left_on='fk', right_on='sample_id')\n",
        "df = df.drop(['sample_id'], axis=1)"
      ],
      "execution_count": 0,
      "outputs": []
    },
    {
      "cell_type": "markdown",
      "metadata": {
        "id": "7g5wzKZyGENF",
        "colab_type": "text"
      },
      "source": [
        "### CPU statuses"
      ]
    },
    {
      "cell_type": "code",
      "metadata": {
        "id": "E8DQr5nGGIOH",
        "colab_type": "code",
        "colab": {}
      },
      "source": [
        "data = load_df('cpu_statuses.parquet', columns=['sample_id', 'usage'])"
      ],
      "execution_count": 0,
      "outputs": []
    },
    {
      "cell_type": "code",
      "metadata": {
        "id": "1cBt6YH6GN2a",
        "colab_type": "code",
        "colab": {}
      },
      "source": [
        "df = df.merge(data, left_on='fk', right_on='sample_id')\n",
        "df = df.drop(['sample_id'], axis=1)"
      ],
      "execution_count": 0,
      "outputs": []
    },
    {
      "cell_type": "markdown",
      "metadata": {
        "id": "17I4yiMJDNjG",
        "colab_type": "text"
      },
      "source": [
        "### Settings"
      ]
    },
    {
      "cell_type": "code",
      "metadata": {
        "id": "UYF-m8gXpDSQ",
        "colab_type": "code",
        "colab": {}
      },
      "source": [
        "data = load_df('settings.parquet').astype(load_dtypes('settings.dtypes.pickle'))"
      ],
      "execution_count": 0,
      "outputs": []
    },
    {
      "cell_type": "code",
      "metadata": {
        "id": "7yKSEd4vopkc",
        "colab_type": "code",
        "colab": {}
      },
      "source": [
        "df = df.merge(data, left_on='fk', right_on='sample_id')\n",
        "df = df.drop(['sample_id', 'unknown_sources', 'developer_mode'], axis=1)"
      ],
      "execution_count": 0,
      "outputs": []
    },
    {
      "cell_type": "markdown",
      "metadata": {
        "id": "b7kWRxzoAJIf",
        "colab_type": "text"
      },
      "source": [
        "### Drop duplicated rows"
      ]
    },
    {
      "cell_type": "code",
      "metadata": {
        "id": "-OZ6eD43tkR_",
        "colab_type": "code",
        "colab": {}
      },
      "source": [
        "subset = ['name', 'importance', 'version_code', 'bluetooth_enabled',\n",
        "          'location_enabled', 'power_saver_enabled', 'flashlight_enabled',\n",
        "          'battery_state', 'battery_level', 'network_status',\n",
        "          'screen_brightness', 'screen_on', 'health', 'charger', 'usage']\n",
        "envs = df.drop_duplicates(subset=subset)"
      ],
      "execution_count": 0,
      "outputs": []
    },
    {
      "cell_type": "code",
      "metadata": {
        "id": "O1ExRgr7uwBc",
        "colab_type": "code",
        "colab": {}
      },
      "source": [
        "envs = df.reset_index(drop=True)"
      ],
      "execution_count": 0,
      "outputs": []
    },
    {
      "cell_type": "code",
      "metadata": {
        "id": "SLsvRVMupSLS",
        "colab_type": "code",
        "colab": {
          "base_uri": "https://localhost:8080/",
          "height": 495
        },
        "outputId": "edd7d043-52c7-4245-8a60-8b800af67ae6"
      },
      "source": [
        "envs.info()"
      ],
      "execution_count": 21,
      "outputs": [
        {
          "output_type": "stream",
          "text": [
            "<class 'pandas.core.frame.DataFrame'>\n",
            "RangeIndex: 397008 entries, 0 to 397007\n",
            "Data columns (total 21 columns):\n",
            "fk                     397008 non-null uint32\n",
            "name                   397008 non-null object\n",
            "application_label      397008 non-null category\n",
            "importance             397008 non-null category\n",
            "version_code           397008 non-null uint32\n",
            "battery_state          397008 non-null category\n",
            "battery_level          397008 non-null uint8\n",
            "network_status         397008 non-null category\n",
            "screen_brightness      397008 non-null int64\n",
            "screen_on              397008 non-null uint8\n",
            "charger                397008 non-null category\n",
            "current_average        397008 non-null int64\n",
            "health                 397008 non-null category\n",
            "temperature            397008 non-null float32\n",
            "voltage                397008 non-null float32\n",
            "usage                  397008 non-null float32\n",
            "bluetooth_enabled      397008 non-null uint8\n",
            "location_enabled       397008 non-null uint8\n",
            "power_saver_enabled    397008 non-null uint8\n",
            "flashlight_enabled     397008 non-null uint8\n",
            "nfc_enabled            397008 non-null uint8\n",
            "dtypes: category(6), float32(3), int64(2), object(1), uint32(2), uint8(7)\n",
            "memory usage: 22.1+ MB\n"
          ],
          "name": "stdout"
        }
      ]
    },
    {
      "cell_type": "code",
      "metadata": {
        "id": "S2dWQv_7u1Xt",
        "colab_type": "code",
        "colab": {
          "base_uri": "https://localhost:8080/",
          "height": 504
        },
        "outputId": "4243662c-86d8-4735-b284-55843a1f1d04"
      },
      "source": [
        "envs['name'].value_counts()[:25].plot.barh(figsize=(16,8))"
      ],
      "execution_count": 22,
      "outputs": [
        {
          "output_type": "execute_result",
          "data": {
            "text/plain": [
              "<matplotlib.axes._subplots.AxesSubplot at 0x7f23f0d50588>"
            ]
          },
          "metadata": {
            "tags": []
          },
          "execution_count": 22
        },
        {
          "output_type": "display_data",
          "data": {
            "image/png": "[encoded data removed]",
            "text/plain": [
              "<Figure size 1152x576 with 1 Axes>"
            ]
          },
          "metadata": {
            "tags": []
          }
        }
      ]
    },
    {
      "cell_type": "code",
      "metadata": {
        "id": "WgHZGqrEIG9T",
        "colab_type": "code",
        "colab": {
          "base_uri": "https://localhost:8080/",
          "height": 495
        },
        "outputId": "1c1d69cb-1620-4cdb-d8a0-f457c89061ae"
      },
      "source": [
        "df.info()"
      ],
      "execution_count": 27,
      "outputs": [
        {
          "output_type": "stream",
          "text": [
            "<class 'pandas.core.frame.DataFrame'>\n",
            "Int64Index: 397008 entries, 0 to 397007\n",
            "Data columns (total 21 columns):\n",
            "fk                     397008 non-null uint32\n",
            "name                   397008 non-null object\n",
            "application_label      397008 non-null category\n",
            "importance             397008 non-null category\n",
            "version_code           397008 non-null uint32\n",
            "battery_state          397008 non-null category\n",
            "battery_level          397008 non-null uint8\n",
            "network_status         397008 non-null category\n",
            "screen_brightness      397008 non-null int64\n",
            "screen_on              397008 non-null uint8\n",
            "charger                397008 non-null category\n",
            "current_average        397008 non-null int64\n",
            "health                 397008 non-null category\n",
            "temperature            397008 non-null float32\n",
            "voltage                397008 non-null float32\n",
            "usage                  397008 non-null float32\n",
            "bluetooth_enabled      397008 non-null uint8\n",
            "location_enabled       397008 non-null uint8\n",
            "power_saver_enabled    397008 non-null uint8\n",
            "flashlight_enabled     397008 non-null uint8\n",
            "nfc_enabled            397008 non-null uint8\n",
            "dtypes: category(6), float32(3), int64(2), object(1), uint32(2), uint8(7)\n",
            "memory usage: 25.1+ MB\n"
          ],
          "name": "stdout"
        }
      ]
    },
    {
      "cell_type": "code",
      "metadata": {
        "id": "xsmoPgGCIMIf",
        "colab_type": "code",
        "colab": {}
      },
      "source": [
        "df = df.drop(['fk'], axis=1)"
      ],
      "execution_count": 0,
      "outputs": []
    },
    {
      "cell_type": "code",
      "metadata": {
        "id": "9w7YurKzIRjI",
        "colab_type": "code",
        "colab": {
          "base_uri": "https://localhost:8080/",
          "height": 476
        },
        "outputId": "0202010d-fc62-44bb-dc21-9911ad843bfe"
      },
      "source": [
        "df.info()"
      ],
      "execution_count": 29,
      "outputs": [
        {
          "output_type": "stream",
          "text": [
            "<class 'pandas.core.frame.DataFrame'>\n",
            "Int64Index: 397008 entries, 0 to 397007\n",
            "Data columns (total 20 columns):\n",
            "name                   397008 non-null object\n",
            "application_label      397008 non-null category\n",
            "importance             397008 non-null category\n",
            "version_code           397008 non-null uint32\n",
            "battery_state          397008 non-null category\n",
            "battery_level          397008 non-null uint8\n",
            "network_status         397008 non-null category\n",
            "screen_brightness      397008 non-null int64\n",
            "screen_on              397008 non-null uint8\n",
            "charger                397008 non-null category\n",
            "current_average        397008 non-null int64\n",
            "health                 397008 non-null category\n",
            "temperature            397008 non-null float32\n",
            "voltage                397008 non-null float32\n",
            "usage                  397008 non-null float32\n",
            "bluetooth_enabled      397008 non-null uint8\n",
            "location_enabled       397008 non-null uint8\n",
            "power_saver_enabled    397008 non-null uint8\n",
            "flashlight_enabled     397008 non-null uint8\n",
            "nfc_enabled            397008 non-null uint8\n",
            "dtypes: category(6), float32(3), int64(2), object(1), uint32(1), uint8(7)\n",
            "memory usage: 23.6+ MB\n"
          ],
          "name": "stdout"
        }
      ]
    },
    {
      "cell_type": "code",
      "metadata": {
        "id": "nZQlL-3wH3yJ",
        "colab_type": "code",
        "colab": {}
      },
      "source": [
        "save_df(df, 'random-forest-apps.parquet')"
      ],
      "execution_count": 0,
      "outputs": []
    }
  ]
}